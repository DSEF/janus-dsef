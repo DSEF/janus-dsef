{
 "cells": [
  {
   "cell_type": "markdown",
   "metadata": {},
   "source": [
    "## Experimental Settings"
   ]
  },
  {
   "cell_type": "code",
   "execution_count": null,
   "metadata": {},
   "outputs": [],
   "source": [
    "username = \"sgt43\" # Username of user on server\n",
    "exp_name = \"dsef-janus\" # Name of Experiment on TestBed\n",
    "proj_name = \"cops\" # Name of Project on TestBed\n",
    "default_node = \"node-0\" # Default node to run the experiment from\n",
    "ds = \"janus\"\n",
    "host_ip = \"users.emulab.net\"\n",
    "host_servers_ip = \"emulab.net\"\n",
    "default_ip = \"{}.{}.{}.{}\".format(default_node, exp_name, proj_name, host_servers_ip)"
   ]
  },
  {
   "cell_type": "markdown",
   "metadata": {
    "collapsed": true
   },
   "source": [
    "## Imports / Definitions"
   ]
  },
  {
   "cell_type": "code",
   "execution_count": null,
   "metadata": {
    "collapsed": true
   },
   "outputs": [],
   "source": [
    "import yaml\n",
    "import os\n",
    "from importlib import reload\n",
    "from altair import *\n",
    "from altair_widgets import interact_with\n",
    "import pandas as pd\n",
    "import pydsef\n",
    "from pydsef import Experiment, DSEFLoader, util\n",
    "\n",
    "%load_ext yamlmagic\n",
    "#TODO: do this in Jupyter config\n",
    "\n",
    "pd.options.display.max_columns = 999\n",
    "pd.options.display.max_rows = 999"
   ]
  },
  {
   "cell_type": "code",
   "execution_count": null,
   "metadata": {},
   "outputs": [],
   "source": [
    "%%yaml conf --loader DSEFLoader\n",
    "client_types:\n",
    "    closed: &closed client_closed\n",
    "    open: &open client_open\n",
    "    open_5k: &open_5k client_open_5k\n",
    "protocol:\n",
    "    tapir: &tapir tapir:tapir\n",
    "    janus: &janus brq:brq\n",
    "    occ_paxos: &occ_paxos occ:multi_paxos\n",
    "benchmark:\n",
    "    rw: &rw rw_benchmark\n",
    "    tpca: &tpca tpca\n",
    "    tpcc: &tpcc tpcc\n",
    "    tpcc_no: &tpcc_no tpcc_no\n",
    "    tpcc_pm: &tpcc_pm tpcc_pm\n",
    "client_placement:\n",
    "    with_leader: &with_leader with_leader\n",
    "    balanced: &balanced balanced\n",
    "    \n",
    "experiment:\n",
    "    duration: 10\n",
    "    name: dsef\n",
    "    clients: !include [1, 2]\n",
    "    client_loads: !include [-1]\n",
    "    server_timeout: 30\n",
    "    servers: !include [2]\n",
    "    zipf: [0.0, 0.3, 0.5, 0.6, 0.7, 0.8, 0.9, 1.0]\n",
    "    shards: 3\n",
    "    benchs: !include [*tpcc]\n",
    "    protocols: !include [*tapir]\n",
    "    client_placement: *balanced\n",
    "    num_cores: 2              # number of cores each server has\n",
    "    data_centers: []\n",
    "    client_type: *closed # is client open or closed\n",
    "    concurrent: 1             # concurrent: (1, 10, 25, 50, 100, 1000, 10000)\n",
    "    overlap: True\n",
    "    rpc_port: 5555\n",
    "    status_time_interval: 5\n",
    "    wait: False\n",
    "    single_server: 0\n",
    "    taskset_schema: 0\n",
    "    client_taskset: False\n",
    "    recording_path: ''\n",
    "    interest_txn: 'NEW ORDER'\n",
    "    \n",
    "host:\n",
    "    node-1: node-1\n",
    "    node-2: node-2\n",
    "    node-3: node-3\n",
    "    node-4: node-4\n",
    "    node-5: node-5\n",
    "    node-6: node-6\n",
    "    node-7: node-7\n",
    "    node-8: node-8\n",
    "    node-9: node-9\n",
    "    node-10: node-10\n",
    "    node-11: node-11\n",
    "    node-12: node-12\n",
    "    node-13: node-13\n",
    "    node-14: node-14\n",
    "    node-15: node-15\n",
    "    node-16: node-16\n",
    "    node-17: node-17\n",
    "    node-18: node-18\n",
    "    node-19: node-19\n",
    "    node-20: node-20"
   ]
  },
  {
   "cell_type": "code",
   "execution_count": null,
   "metadata": {
    "scrolled": false
   },
   "outputs": [],
   "source": [
    "exp = Experiment(default_ip, username, ds, conf)\n",
    "pd.DataFrame(exp.experiment_list)"
   ]
  },
  {
   "cell_type": "markdown",
   "metadata": {
    "collapsed": true
   },
   "source": [
    "# Experiment\n",
    "Launch Instances of the Distributed System\n",
    "    \n",
    "Setup Benchmark on Clients\n",
    "    \n",
    "Start the Experiment\n",
    "    \n",
    "Kill all Instances of the Distributed System "
   ]
  },
  {
   "cell_type": "markdown",
   "metadata": {},
   "source": [
    "## Loop"
   ]
  },
  {
   "cell_type": "code",
   "execution_count": null,
   "metadata": {
    "scrolled": false
   },
   "outputs": [],
   "source": [
    "exp.set_executable('wrapper.py')\n",
    "exp.push_files(['run.py', 'gen_experiments.py'])\n",
    "exp.set_archive('dsef', 'log')\n",
    "\n",
    "# exp.show_log = False\n",
    "# exp.save_log = True\n",
    "res = exp.run()"
   ]
  },
  {
   "cell_type": "code",
   "execution_count": null,
   "metadata": {
    "collapsed": true
   },
   "outputs": [],
   "source": [
    "data = {}\n",
    "for exp_id in res.keys():\n",
    "    tmp_data = {}\n",
    "    for txn in res[exp_id].keys():\n",
    "        txn_res = res[exp_id][txn].copy()\n",
    "        \n",
    "        for key in list(txn_res.keys()):\n",
    "            if isinstance(txn_res[key], dict):\n",
    "                for k in txn_res[key].keys():\n",
    "                    txn_res['{}_{}'.format(key, k)] = txn_res[key][k]\n",
    "                del txn_res[key]\n",
    "                \n",
    "        data['{}_{}'.format(exp_id, txn)] = txn_res"
   ]
  },
  {
   "cell_type": "code",
   "execution_count": null,
   "metadata": {},
   "outputs": [],
   "source": [
    "df = pd.DataFrame(data)\n",
    "df"
   ]
  },
  {
   "cell_type": "code",
   "execution_count": null,
   "metadata": {
    "scrolled": false
   },
   "outputs": [],
   "source": [
    "interact_with(df.transpose())"
   ]
  },
  {
   "cell_type": "code",
   "execution_count": null,
   "metadata": {
    "collapsed": true
   },
   "outputs": [],
   "source": []
  }
 ],
 "metadata": {
  "kernelspec": {
   "display_name": "Python 3",
   "language": "python",
   "name": "python3"
  },
  "language_info": {
   "codemirror_mode": {
    "name": "ipython",
    "version": 3
   },
   "file_extension": ".py",
   "mimetype": "text/x-python",
   "name": "python",
   "nbconvert_exporter": "python",
   "pygments_lexer": "ipython3",
   "version": "3.4.3"
  }
 },
 "nbformat": 4,
 "nbformat_minor": 2
}
